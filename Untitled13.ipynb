{
  "nbformat": 4,
  "nbformat_minor": 0,
  "metadata": {
    "colab": {
      "provenance": [],
      "gpuType": "T4",
      "authorship_tag": "ABX9TyO7FFygrwODFIxGVq9SnI/u",
      "include_colab_link": true
    },
    "kernelspec": {
      "name": "python3",
      "display_name": "Python 3"
    },
    "language_info": {
      "name": "python"
    },
    "accelerator": "GPU"
  },
  "cells": [
    {
      "cell_type": "markdown",
      "metadata": {
        "id": "view-in-github",
        "colab_type": "text"
      },
      "source": [
        "<a href=\"https://colab.research.google.com/github/Nikhila1619/git.project/blob/main/Untitled13.ipynb\" target=\"_parent\"><img src=\"https://colab.research.google.com/assets/colab-badge.svg\" alt=\"Open In Colab\"/></a>"
      ]
    },
    {
      "cell_type": "code",
      "execution_count": 6,
      "metadata": {
        "id": "z0pbUxmuoaxc"
      },
      "outputs": [],
      "source": [
        "import nltk\n",
        "import string\n",
        "import numpy as np\n",
        "from sklearn.feature_extraction.text import TfidfVectorizer\n",
        "from sklearn.metrics.pairwise import cosine_similarity\n",
        "from nltk.corpus import stopwords\n",
        "from nltk.tokenize import word_tokenize\n",
        "from nltk.stem import WordNetLemmatizer"
      ]
    },
    {
      "cell_type": "code",
      "source": [
        "review1='The movie was so fentasic! the action and plot by the hero was good'\n",
        "review2='movie was so boring, I hated the action and plot'"
      ],
      "metadata": {
        "id": "ov0GDV9nq1--"
      },
      "execution_count": 7,
      "outputs": []
    },
    {
      "cell_type": "code",
      "source": [
        "def prepocess_text(text):\n",
        "  tokens=word_tokenize(text)\n",
        "  tokens=[word.lower() for word in tokens]\n",
        "  stop_words=set(stopwords.words(\"english\"))\n",
        "  tokens=[word for word in tokens if word not in stop_words]\n",
        "  lemmatizer=WordNetLemmatizer()\n",
        "  tokens=[lemmatizer.lemmatize(word) for word in tokens]\n",
        "  return \" \".join(tokens)"
      ],
      "metadata": {
        "id": "6BWWJj6wrvjw"
      },
      "execution_count": 8,
      "outputs": []
    },
    {
      "cell_type": "code",
      "source": [
        "a=prepocess_text(review1)\n",
        "print(a)\n",
        "b=prepocess_text(review2)\n",
        "print(b)"
      ],
      "metadata": {
        "colab": {
          "base_uri": "https://localhost:8080/"
        },
        "id": "PVlQ3TJRtD_X",
        "outputId": "f7d661fb-941d-4511-f4cc-1e0fc7490be1"
      },
      "execution_count": 9,
      "outputs": [
        {
          "output_type": "stream",
          "name": "stdout",
          "text": [
            "movie fentasic ! action plot hero good\n",
            "movie boring , hated action plot\n"
          ]
        }
      ]
    },
    {
      "cell_type": "code",
      "source": [
        "vectorizer=TfidfVectorizer()\n",
        "vectors=vectorizer.fit_transform([a,b])\n",
        "vectors.toarray()"
      ],
      "metadata": {
        "colab": {
          "base_uri": "https://localhost:8080/"
        },
        "id": "rrukA_8_tXl6",
        "outputId": "101fbebf-9c84-4ab5-9d7f-6673c69fe58e"
      },
      "execution_count": 11,
      "outputs": [
        {
          "output_type": "execute_result",
          "data": {
            "text/plain": [
              "array([[0.33471228, 0.        , 0.47042643, 0.47042643, 0.        ,\n",
              "        0.47042643, 0.33471228, 0.33471228],\n",
              "       [0.37930349, 0.53309782, 0.        , 0.        , 0.53309782,\n",
              "        0.        , 0.37930349, 0.37930349]])"
            ]
          },
          "metadata": {},
          "execution_count": 11
        }
      ]
    },
    {
      "cell_type": "code",
      "source": [],
      "metadata": {
        "id": "ooBo71ghvwWL"
      },
      "execution_count": null,
      "outputs": []
    }
  ]
}